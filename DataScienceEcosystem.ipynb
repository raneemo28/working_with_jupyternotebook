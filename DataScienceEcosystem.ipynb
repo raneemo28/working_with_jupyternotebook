{
 "cells": [
  {
   "cell_type": "markdown",
   "id": "94eb4853-2bde-4dc0-9f7f-edd7f81c661a",
   "metadata": {},
   "source": [
    "# Data Science Tools and Ecosystem"
   ]
  },
  {
   "cell_type": "markdown",
   "id": "131329a2-564c-4810-a123-d3917345bc04",
   "metadata": {},
   "source": [
    "In this notebook, Data Science Tools and Ecosystem are summarized."
   ]
  },
  {
   "cell_type": "markdown",
   "id": "ef8e1c59-7650-4f9d-abf6-9134bc746074",
   "metadata": {},
   "source": [
    "__Objectives__:\n",
    "+ List popular languages for Data Science\n",
    "+ list commonly used libraries used by Data Scientists\n",
    "+ list Data Science Tools\n",
    "+ show a few examples of evaluating arithmetic expressions in Python"
   ]
  },
  {
   "cell_type": "markdown",
   "id": "2b5c0e26-d7bc-4037-818a-1c663cb4b76a",
   "metadata": {},
   "source": [
    "Some of the popular languages that Data Scientists use are:\n",
    "1. Python\n",
    "2. R\n",
    "3. Julia\n",
    "4. Scala"
   ]
  },
  {
   "cell_type": "markdown",
   "id": "220c989a-fcbf-4805-8988-371c5d986c47",
   "metadata": {},
   "source": [
    "Some of the commonly used libraries used by Data Scientists include:\n",
    "1. Numpy\n",
    "2. Pandas\n",
    "3. Matplotlib"
   ]
  },
  {
   "cell_type": "markdown",
   "id": "f4deb815-2c70-4bf4-9e95-5b355ec9dd5e",
   "metadata": {},
   "source": [
    "| Data Science Tools |\n",
    "|--------------------|\n",
    "|Rstudio|\n",
    "| VS code|\n",
    "| Jupyter notebook|"
   ]
  },
  {
   "cell_type": "markdown",
   "id": "48a819ea-c7a1-4083-841a-0dfc159a1352",
   "metadata": {},
   "source": [
    "### Below are a few examples of evaluating arithmetic expressions in Python"
   ]
  },
  {
   "cell_type": "code",
   "execution_count": 1,
   "id": "9fdfdefd-f7c7-42fc-bb45-e0238fc72eeb",
   "metadata": {},
   "outputs": [
    {
     "data": {
      "text/plain": [
       "17"
      ]
     },
     "execution_count": 1,
     "metadata": {},
     "output_type": "execute_result"
    }
   ],
   "source": [
    "# This a simple arithmetic expression to mutiply then add integers\n",
    "(3*4)+5"
   ]
  },
  {
   "cell_type": "code",
   "execution_count": 2,
   "id": "0aaa0b05-9707-4c3a-a3f2-2adfc93f2a55",
   "metadata": {},
   "outputs": [
    {
     "data": {
      "text/plain": [
       "3.3333333333333335"
      ]
     },
     "execution_count": 2,
     "metadata": {},
     "output_type": "execute_result"
    }
   ],
   "source": [
    "# This will convert 200 minutes to hours by diving by 60\n",
    "200 / 60 "
   ]
  },
  {
   "cell_type": "markdown",
   "id": "00d1569e-4343-4d54-9d6d-3cd948e009e0",
   "metadata": {},
   "source": [
    "## Author\n",
    "Raneem alabed"
   ]
  },
  {
   "cell_type": "code",
   "execution_count": null,
   "id": "051199b5-28e0-4f84-8bbe-2af3435d417c",
   "metadata": {},
   "outputs": [],
   "source": []
  }
 ],
 "metadata": {
  "kernelspec": {
   "display_name": "Python 3 (ipykernel)",
   "language": "python",
   "name": "python3"
  },
  "language_info": {
   "codemirror_mode": {
    "name": "ipython",
    "version": 3
   },
   "file_extension": ".py",
   "mimetype": "text/x-python",
   "name": "python",
   "nbconvert_exporter": "python",
   "pygments_lexer": "ipython3",
   "version": "3.12.3"
  }
 },
 "nbformat": 4,
 "nbformat_minor": 5
}
